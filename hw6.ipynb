{
 "cells": [
  {
   "cell_type": "markdown",
   "id": "e2d4ec56",
   "metadata": {},
   "source": [
    "## Задание 1"
   ]
  },
  {
   "cell_type": "markdown",
   "id": "f2037209",
   "metadata": {},
   "source": [
    "*Продакт на главной mail.ru решил протестировать в рекомендательной ленте контента вместо карточек со статьями видеоплеер с короткими видео. Нынешний таймспент на юзера в день в среднем равен 25 минут, а стандартная ошибка (SD) равна 156. Мы предполагаем, что в новой версии таймспент на юзера в день изменится на 10%. Средний трафик 20000 человек в день. Посчитайте сколько дней необходимо держать эксперимент при alpha = 5% и beta = 20% .*"
   ]
  },
  {
   "cell_type": "markdown",
   "id": "ca3f0302",
   "metadata": {},
   "source": [
    "Длительность эксперимента рассчитывается по формуле:\n",
    "\n",
    "t = n / (p * v)\n",
    "\n",
    "где:\n",
    "\n",
    "t - длительность эксперимента в днях,\n",
    "\n",
    "n - размер выборки, \n",
    "\n",
    "p - средний трафик в день,\n",
    "\n",
    "v - доля пользователей, которым будет показан новый контент (v = 1, т.к. эксперимент проводится на всех пользователей)"
   ]
  },
  {
   "cell_type": "markdown",
   "id": "148a8312",
   "metadata": {},
   "source": [
    "n = (Zα/2 + Zβ)^2 * (SD^2 / d^2)\n",
    "\n",
    "где:\n",
    "\n",
    "Zα/2 = 1.96 - значение Z-критерия при alpha/2,\n",
    "\n",
    "Zβ = 0.842 - значение Z-критерия для beta,\n",
    "\n",
    "SD = 156 - стандартная ошибка,\n",
    "\n",
    "d = 0,1 * 25 минут = 2,5 минуты - размер эффекта"
   ]
  },
  {
   "cell_type": "code",
   "execution_count": 11,
   "id": "9e71eff4",
   "metadata": {},
   "outputs": [
    {
     "data": {
      "text/plain": [
       "30570.70408704"
      ]
     },
     "execution_count": 11,
     "metadata": {},
     "output_type": "execute_result"
    }
   ],
   "source": [
    "za, zb, sd, d = 1.96, 0.842, 156, 2.5\n",
    "\n",
    "n = (za + zb)**2 * (sd**2 / d**2)\n",
    "n"
   ]
  },
  {
   "cell_type": "code",
   "execution_count": 12,
   "id": "1c3b78e4",
   "metadata": {},
   "outputs": [
    {
     "data": {
      "text/plain": [
       "1.528535204352"
      ]
     },
     "execution_count": 12,
     "metadata": {},
     "output_type": "execute_result"
    }
   ],
   "source": [
    "p, v = 20000, 1\n",
    "\n",
    "t = n / (p * v)\n",
    "t"
   ]
  },
  {
   "cell_type": "markdown",
   "id": "2d1e621c",
   "metadata": {},
   "source": [
    "Мы не можем провести эксперимент на долю дня, поэтому нам нужно округлить до ближайшего целого дня.\n",
    "\n",
    " *Следовательно, нам нужно провести эксперимент как минимум в течение ***2 дней***, чтобы обнаружить 10-процентное изменение среднего времени, затрачиваемого пользователем в день, с достоверностью 95 % и мощностью 80 %.*"
   ]
  },
  {
   "cell_type": "markdown",
   "id": "c98df735",
   "metadata": {},
   "source": [
    "---"
   ]
  },
  {
   "cell_type": "markdown",
   "id": "33352863",
   "metadata": {},
   "source": [
    "## Задание 2"
   ]
  },
  {
   "cell_type": "markdown",
   "id": "cb86e979",
   "metadata": {},
   "source": [
    "   *Наша продуктовая команда в ecommerce магазине планирует запустить тест, направленный на ускорение загрузки сайта. Одна из основных метрик bounce rate в GA = 40%. Мы предполагаем, что при оптимизации сайта она изменится минимум на 20%.Средний трафик 4000 человек в день. Посчитайте сколько нам нужно дней держать эксперимент при alpha = 5% и beta = 20%*"
   ]
  },
  {
   "cell_type": "code",
   "execution_count": 13,
   "id": "dd5a3516",
   "metadata": {},
   "outputs": [
    {
     "data": {
      "text/plain": [
       "0.031053749999999984"
      ]
     },
     "execution_count": 13,
     "metadata": {},
     "output_type": "execute_result"
    }
   ],
   "source": [
    "za, zb, b_r, traffic = 1.96, 0.84, 0.4, 4000\n",
    "d = b_r * 0.2\n",
    "\n",
    "n = (za/2 + zb)**2 * b_r * (1 - b_r) / d**2\n",
    "t = n / traffic\n",
    "t"
   ]
  },
  {
   "cell_type": "markdown",
   "id": "75662a4b",
   "metadata": {},
   "source": [
    "*Следовательно, нам нужно провести эксперимент как минимум в течение ***1 дня***, чтобы обнаружить 20-процентное изменение bounce rate в GA с 95-процентной достоверностью и 80-процентной мощностью.*"
   ]
  }
 ],
 "metadata": {
  "kernelspec": {
   "display_name": "Python 3 (ipykernel)",
   "language": "python",
   "name": "python3"
  },
  "language_info": {
   "codemirror_mode": {
    "name": "ipython",
    "version": 3
   },
   "file_extension": ".py",
   "mimetype": "text/x-python",
   "name": "python",
   "nbconvert_exporter": "python",
   "pygments_lexer": "ipython3",
   "version": "3.10.9"
  }
 },
 "nbformat": 4,
 "nbformat_minor": 5
}
